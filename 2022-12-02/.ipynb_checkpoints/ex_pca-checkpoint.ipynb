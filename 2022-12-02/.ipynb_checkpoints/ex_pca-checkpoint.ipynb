{
 "cells": [
  {
   "cell_type": "markdown",
   "metadata": {},
   "source": [
    "# Best Place to live in North America\n",
    "Informationen über die Daten (Places Rated Almanac, by Richard Boyer and David Savageau):\n",
    "https://cran.r-project.org/web/packages/tourr/tourr.pdf"
   ]
  },
  {
   "cell_type": "code",
   "execution_count": 2,
   "metadata": {},
   "outputs": [],
   "source": [
    "import numpy as np\n",
    "data = np.loadtxt('data/places.csv', delimiter=',', skiprows=1)"
   ]
  },
  {
   "cell_type": "code",
   "execution_count": 15,
   "metadata": {},
   "outputs": [
    {
     "name": "stdout",
     "output_type": "stream",
     "text": [
      "[[  521.  6200.   237. ...,   996.  1405.  7633.]\n",
      " [  575.  8138.  1656. ...,  5564.  2632.  4350.]\n",
      " [  468.  7339.   618. ...,   237.   859.  5250.]\n",
      " ..., \n",
      " [  540.  8371.   713. ...,  1022.   842.  4946.]\n",
      " [  570.  7021.  1097. ...,  2797.  1327.  3894.]\n",
      " [  608.  7875.   212. ...,   122.   918.  4694.]]\n"
     ]
    }
   ],
   "source": [
    "print(data[:, 1:10])"
   ]
  },
  {
   "cell_type": "markdown",
   "metadata": {},
   "source": [
    "## Aufgaben\n",
    "\n",
    "Welche Hauptkomponenten werden benötigt? Was sagen diese aus?\n",
    "\n",
    "Mit welchen Variablen kann der Datensatz am einfachsten erklärt werden?\n",
    "\n",
    "Welche Städte haben ungewöhnliche Daten? (z.B. mit matplotlib)"
   ]
  }
 ],
 "metadata": {
  "kernelspec": {
   "display_name": "Python 3",
   "language": "python",
   "name": "python3"
  },
  "language_info": {
   "codemirror_mode": {
    "name": "ipython",
    "version": 3
   },
   "file_extension": ".py",
   "mimetype": "text/x-python",
   "name": "python",
   "nbconvert_exporter": "python",
   "pygments_lexer": "ipython3",
   "version": "3.7.7"
  }
 },
 "nbformat": 4,
 "nbformat_minor": 1
}
